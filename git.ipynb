{
 "cells": [
  {
   "cell_type": "markdown",
   "metadata": {},
   "source": [
    "## 桌面创建新文件并初始化"
   ]
  },
  {
   "cell_type": "code",
   "execution_count": null,
   "metadata": {},
   "outputs": [],
   "source": [
    "# 初次使用设置用户名及邮箱\n",
    "git commit --global user.name DUT-tjy\n",
    "git commit --global user.email 1997tjy@mail.dlut.edu.cn\n",
    "# 切换到项目文件夹下初始化git并查看当前文件夹状态\n",
    "git init\n",
    "git status"
   ]
  },
  {
   "cell_type": "markdown",
   "metadata": {},
   "source": [
    "## 提交文件：add->commit "
   ]
  },
  {
   "cell_type": "code",
   "execution_count": 1,
   "metadata": {},
   "outputs": [],
   "source": [
    "# git前后文件状态变化\n",
    "# untracked(not add)->staged(add, 进入暂存区)->committed(从暂存区提交)\n",
    "# 使用checkout回退版本，返回add之前\n",
    "git add .\n",
    "git commit name -m \"banben\"\n",
    "#使用git log查看版本\n",
    "#soft、hard回退版本(是否清除当前工作区和缓存区)\n",
    "git reset --soft index\n",
    "git reset --hard index"
   ]
  },
  {
   "cell_type": "markdown",
   "metadata": {},
   "source": [
    "## 创建分支并切换"
   ]
  },
  {
   "cell_type": "code",
   "execution_count": null,
   "metadata": {},
   "outputs": [],
   "source": [
    "git branch dev\n",
    "git checkout dev\n",
    "# 使用dev分支进行领先操作\n",
    "# dev分支操作不影响master分支\n",
    "# 使用merge将两个分支的文件合并\n",
    "git merge dev "
   ]
  },
  {
   "cell_type": "markdown",
   "metadata": {},
   "source": [
    "## 项目传送到远程仓库"
   ]
  },
  {
   "cell_type": "code",
   "execution_count": null,
   "metadata": {},
   "outputs": [],
   "source": [
    "git remote add origin https://github.com/DUT-Tjy/how-to-git.git\n",
    "git push -u origin master "
   ]
  },
  {
   "cell_type": "code",
   "execution_count": null,
   "metadata": {},
   "outputs": [],
   "source": []
  },
  {
   "cell_type": "code",
   "execution_count": null,
   "metadata": {},
   "outputs": [],
   "source": []
  }
 ],
 "metadata": {
  "kernelspec": {
   "display_name": "Python 3",
   "language": "python",
   "name": "python3"
  },
  "language_info": {
   "codemirror_mode": {
    "name": "ipython",
    "version": 3
   },
   "file_extension": ".py",
   "mimetype": "text/x-python",
   "name": "python",
   "nbconvert_exporter": "python",
   "pygments_lexer": "ipython3",
   "version": "3.7.2"
  }
 },
 "nbformat": 4,
 "nbformat_minor": 2
}
